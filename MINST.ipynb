{
  "nbformat": 4,
  "nbformat_minor": 0,
  "metadata": {
    "colab": {
      "name": "MINST.ipynb",
      "provenance": [],
      "collapsed_sections": [],
      "authorship_tag": "ABX9TyOVZKgDNGMAxxkbJetMXCeE",
      "include_colab_link": true
    },
    "kernelspec": {
      "name": "python3",
      "display_name": "Python 3"
    }
  },
  "cells": [
    {
      "cell_type": "markdown",
      "metadata": {
        "id": "view-in-github",
        "colab_type": "text"
      },
      "source": [
        "<a href=\"https://colab.research.google.com/github/umesh2908/Machine-learning-projects/blob/master/MINST.ipynb\" target=\"_parent\"><img src=\"https://colab.research.google.com/assets/colab-badge.svg\" alt=\"Open In Colab\"/></a>"
      ]
    },
    {
      "cell_type": "code",
      "metadata": {
        "id": "putT50pI7rfm",
        "colab_type": "code",
        "colab": {
          "base_uri": "https://localhost:8080/",
          "height": 34
        },
        "outputId": "d0b975af-fce6-47bf-c0c6-2490c335de48"
      },
      "source": [
        "import math\n",
        "import numpy as np\n",
        "import h5py\n",
        "import matplotlib.pyplot as plt\n",
        "import scipy\n",
        "import pandas as pd\n",
        "from PIL import Image\n",
        "from scipy import ndimage\n",
        "import tensorflow as tf\n",
        "import keras as K\n",
        "from tensorflow.python.framework import ops\n",
        "from keras.models import Sequential\n",
        "from keras.layers import Dense, Dropout, Flatten, BatchNormalization, Activation\n",
        "from keras.layers.convolutional import Conv2D, MaxPooling2D\n",
        "from keras.constraints import maxnorm\n",
        "from keras.utils import np_utils\n",
        "\n",
        "%matplotlib inline\n",
        "np.random.seed(1)"
      ],
      "execution_count": 2,
      "outputs": [
        {
          "output_type": "stream",
          "text": [
            "Using TensorFlow backend.\n"
          ],
          "name": "stderr"
        }
      ]
    },
    {
      "cell_type": "code",
      "metadata": {
        "id": "pnPHcKIZ77H_",
        "colab_type": "code",
        "colab": {
          "resources": {
            "http://localhost:8080/nbextensions/google.colab/files.js": {
              "data": "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",
              "ok": true,
              "headers": [
                [
                  "content-type",
                  "application/javascript"
                ]
              ],
              "status": 200,
              "status_text": ""
            }
          },
          "base_uri": "https://localhost:8080/",
          "height": 40
        },
        "outputId": "dedee21b-c232-46b7-e36a-f76d81108cd9"
      },
      "source": [
        "from google.colab import files\n",
        "uploaded = files.upload()"
      ],
      "execution_count": 3,
      "outputs": [
        {
          "output_type": "display_data",
          "data": {
            "text/html": [
              "\n",
              "     <input type=\"file\" id=\"files-f7d849a6-f101-46c2-a1ad-eae66af5ce29\" name=\"files[]\" multiple disabled />\n",
              "     <output id=\"result-f7d849a6-f101-46c2-a1ad-eae66af5ce29\">\n",
              "      Upload widget is only available when the cell has been executed in the\n",
              "      current browser session. Please rerun this cell to enable.\n",
              "      </output>\n",
              "      <script src=\"/nbextensions/google.colab/files.js\"></script> "
            ],
            "text/plain": [
              "<IPython.core.display.HTML object>"
            ]
          },
          "metadata": {
            "tags": []
          }
        }
      ]
    },
    {
      "cell_type": "code",
      "metadata": {
        "id": "0Hm1xd0WLFEh",
        "colab_type": "code",
        "colab": {}
      },
      "source": [
        "mnist_data = K.datasets.mnist"
      ],
      "execution_count": 0,
      "outputs": []
    },
    {
      "cell_type": "code",
      "metadata": {
        "id": "5Grtm56QLFQu",
        "colab_type": "code",
        "colab": {
          "base_uri": "https://localhost:8080/",
          "height": 52
        },
        "outputId": "50ef99ca-ef0f-4f33-f69e-a685c10494b7"
      },
      "source": [
        "(x_train, y_train), (x_test, y_test) = mnist_data.load_data()"
      ],
      "execution_count": 5,
      "outputs": [
        {
          "output_type": "stream",
          "text": [
            "Downloading data from https://s3.amazonaws.com/img-datasets/mnist.npz\n",
            "11493376/11490434 [==============================] - 2s 0us/step\n"
          ],
          "name": "stdout"
        }
      ]
    },
    {
      "cell_type": "code",
      "metadata": {
        "id": "Qb4pbxgmLFYW",
        "colab_type": "code",
        "colab": {
          "base_uri": "https://localhost:8080/",
          "height": 87
        },
        "outputId": "b75ea3d4-7606-4cde-f645-23b043ebf895"
      },
      "source": [
        "print (\"X_train shape: \" + str(x_train.shape))\n",
        "print (\"Y_train shape: \" + str(y_train.shape))\n",
        "print (\"X_test shape: \" + str(x_test.shape))\n",
        "print (\"Y_test shape: \" + str(y_test.shape))"
      ],
      "execution_count": 6,
      "outputs": [
        {
          "output_type": "stream",
          "text": [
            "X_train shape: (60000, 28, 28)\n",
            "Y_train shape: (60000,)\n",
            "X_test shape: (10000, 28, 28)\n",
            "Y_test shape: (10000,)\n"
          ],
          "name": "stdout"
        }
      ]
    },
    {
      "cell_type": "code",
      "metadata": {
        "id": "nDpR2QcWLqF5",
        "colab_type": "code",
        "colab": {
          "base_uri": "https://localhost:8080/",
          "height": 282
        },
        "outputId": "d87f59f2-cc00-4ea5-db32-3e4492c67da6"
      },
      "source": [
        "plt.imshow(x_train[3])\n",
        "print (\"y = \" + str(np.squeeze(y_train[3])))"
      ],
      "execution_count": 7,
      "outputs": [
        {
          "output_type": "stream",
          "text": [
            "y = 1\n"
          ],
          "name": "stdout"
        },
        {
          "output_type": "display_data",
          "data": {
            "image/png": "[encoded data removed]",
            "text/plain": [
              "<Figure size 432x288 with 1 Axes>"
            ]
          },
          "metadata": {
            "tags": [],
            "needs_background": "light"
          }
        }
      ]
    },
    {
      "cell_type": "code",
      "metadata": {
        "id": "7XUNvDdopdh6",
        "colab_type": "code",
        "colab": {}
      },
      "source": [
        "x_train=x_train.reshape((x_train.shape[0],28,28,1))\n",
        "x_test=x_test.reshape((x_test.shape[0],28,28,1))"
      ],
      "execution_count": 0,
      "outputs": []
    },
    {
      "cell_type": "code",
      "metadata": {
        "id": "2k-mzay2MSZq",
        "colab_type": "code",
        "colab": {
          "base_uri": "https://localhost:8080/",
          "height": 123
        },
        "outputId": "437438ed-6003-4637-d0ab-083928605433"
      },
      "source": [
        "X_train = x_train/255.\n",
        "X_test = x_test/255.\n",
        "Y_train = K.utils.to_categorical(y_train, 10)\n",
        "Y_test = K.utils.to_categorical(y_test, 10)\n",
        "print (\"number of training examples = \" + str(X_train.shape[0]))\n",
        "print (\"number of test examples = \" + str(X_test.shape[0]))\n",
        "print (\"X_train shape: \" + str(X_train.shape))\n",
        "print (\"Y_train shape: \" + str(Y_train.shape))\n",
        "print (\"X_test shape: \" + str(X_test.shape))\n",
        "print (\"Y_test shape: \" + str(Y_test.shape))\n",
        "conv_layers = {}"
      ],
      "execution_count": 9,
      "outputs": [
        {
          "output_type": "stream",
          "text": [
            "number of training examples = 60000\n",
            "number of test examples = 10000\n",
            "X_train shape: (60000, 28, 28, 1)\n",
            "Y_train shape: (60000, 10)\n",
            "X_test shape: (10000, 28, 28, 1)\n",
            "Y_test shape: (10000, 10)\n"
          ],
          "name": "stdout"
        }
      ]
    },
    {
      "cell_type": "code",
      "metadata": {
        "id": "kvNnLPVxjdx0",
        "colab_type": "code",
        "colab": {}
      },
      "source": [
        "model=Sequential()"
      ],
      "execution_count": 0,
      "outputs": []
    },
    {
      "cell_type": "code",
      "metadata": {
        "id": "jJkWcn8Bko-J",
        "colab_type": "code",
        "colab": {}
      },
      "source": [
        "#FirstCNN layer\n",
        "model.add(Conv2D(32, (3, 3), input_shape=X_train.shape[1:], padding='same'))\n",
        "model.add(Activation('relu'))\n",
        "model.add(Dropout(0.2))\n",
        "model.add(BatchNormalization())\n",
        "#secondCNN layer\n",
        "model.add(Conv2D(64, (3, 3), padding='same'))\n",
        "model.add(Activation('relu'))\n",
        "model.add(MaxPooling2D(pool_size=(2, 2)))\n",
        "model.add(Dropout(0.2))\n",
        "model.add(BatchNormalization())\n",
        "#thirdCNN layer\n",
        "model.add(Conv2D(128, (3, 3), padding='same'))\n",
        "model.add(Activation('relu'))\n",
        "model.add(Dropout(0.2))\n",
        "model.add(BatchNormalization())\n",
        "#flatten layer\n",
        "model.add(Flatten())\n",
        "model.add(Dropout(0.2))\n"
      ],
      "execution_count": 0,
      "outputs": []
    },
    {
      "cell_type": "code",
      "metadata": {
        "id": "OI5OhMg4mUzU",
        "colab_type": "code",
        "colab": {}
      },
      "source": [
        "#fullyConnected layer\n",
        "model.add(Dense(256, kernel_constraint=maxnorm(3)))\n",
        "model.add(Activation('relu'))\n",
        "model.add(Dropout(0.2))\n",
        "model.add(BatchNormalization())\n",
        "    \n",
        "model.add(Dense(128, kernel_constraint=maxnorm(3)))\n",
        "model.add(Activation('relu'))\n",
        "model.add(Dropout(0.2))\n",
        "model.add(BatchNormalization())\n",
        "\n",
        "model.add(Dense(10))\n",
        "model.add(Activation('softmax'))"
      ],
      "execution_count": 0,
      "outputs": []
    },
    {
      "cell_type": "code",
      "metadata": {
        "id": "LZtoQp0Bs6Mw",
        "colab_type": "code",
        "colab": {}
      },
      "source": [
        "model.compile(loss='categorical_crossentropy', optimizer='adam', metrics=['accuracy'])"
      ],
      "execution_count": 0,
      "outputs": []
    },
    {
      "cell_type": "code",
      "metadata": {
        "id": "PpEhRhaEtQhp",
        "colab_type": "code",
        "colab": {
          "base_uri": "https://localhost:8080/",
          "height": 407
        },
        "outputId": "a35a4bdf-d45b-4af8-d074-a78197a041cc"
      },
      "source": [
        "model.fit(X_train, Y_train, validation_data=(X_test, Y_test), epochs=10, batch_size=64)"
      ],
      "execution_count": 15,
      "outputs": [
        {
          "output_type": "stream",
          "text": [
            "Train on 60000 samples, validate on 10000 samples\n",
            "Epoch 1/10\n",
            "60000/60000 [==============================] - 465s 8ms/step - loss: 0.2380 - accuracy: 0.9287 - val_loss: 0.0924 - val_accuracy: 0.9759\n",
            "Epoch 2/10\n",
            "60000/60000 [==============================] - 439s 7ms/step - loss: 0.0864 - accuracy: 0.9753 - val_loss: 0.0647 - val_accuracy: 0.9812\n",
            "Epoch 3/10\n",
            "60000/60000 [==============================] - 434s 7ms/step - loss: 0.0708 - accuracy: 0.9799 - val_loss: 0.0428 - val_accuracy: 0.9877\n",
            "Epoch 4/10\n",
            "60000/60000 [==============================] - 428s 7ms/step - loss: 0.0674 - accuracy: 0.9808 - val_loss: 0.0470 - val_accuracy: 0.9856\n",
            "Epoch 5/10\n",
            "60000/60000 [==============================] - 425s 7ms/step - loss: 0.0597 - accuracy: 0.9834 - val_loss: 0.1776 - val_accuracy: 0.9583\n",
            "Epoch 6/10\n",
            "60000/60000 [==============================] - 420s 7ms/step - loss: 0.0579 - accuracy: 0.9834 - val_loss: 0.6947 - val_accuracy: 0.8834\n",
            "Epoch 7/10\n",
            "60000/60000 [==============================] - 411s 7ms/step - loss: 0.0588 - accuracy: 0.9828 - val_loss: 0.0343 - val_accuracy: 0.9894\n",
            "Epoch 8/10\n",
            "60000/60000 [==============================] - 405s 7ms/step - loss: 0.0523 - accuracy: 0.9847 - val_loss: 0.0940 - val_accuracy: 0.9792\n",
            "Epoch 9/10\n",
            "60000/60000 [==============================] - 402s 7ms/step - loss: 0.0512 - accuracy: 0.9853 - val_loss: 0.0297 - val_accuracy: 0.9914\n",
            "Epoch 10/10\n",
            "60000/60000 [==============================] - 415s 7ms/step - loss: 0.0519 - accuracy: 0.9852 - val_loss: 0.0278 - val_accuracy: 0.9909\n"
          ],
          "name": "stdout"
        },
        {
          "output_type": "execute_result",
          "data": {
            "text/plain": [
              "<keras.callbacks.callbacks.History at 0x7fd5bc34a438>"
            ]
          },
          "metadata": {
            "tags": []
          },
          "execution_count": 15
        }
      ]
    },
    {
      "cell_type": "code",
      "metadata": {
        "id": "Teggmm6KoyVy",
        "colab_type": "code",
        "colab": {
          "base_uri": "https://localhost:8080/",
          "height": 87
        },
        "outputId": "c73a158c-92bd-4d04-fad3-750e1b91e4d4"
      },
      "source": [
        "train_accuracy = model.evaluate( X_train,Y_train)\n",
        "test_accuracy = model.evaluate( X_test, Y_test)\n",
        "print(\"train_accuracy:\", train_accuracy)\n",
        "print(\"test_accuracy:\", test_accuracy)"
      ],
      "execution_count": 22,
      "outputs": [
        {
          "output_type": "stream",
          "text": [
            "60000/60000 [==============================] - 100s 2ms/step\n",
            "10000/10000 [==============================] - 16s 2ms/step\n",
            "train_accuracy: [0.022604357737900378, 0.993483304977417]\n",
            "test_accuracy: [0.027779427190730347, 0.9908999800682068]\n"
          ],
          "name": "stdout"
        }
      ]
    },
    {
      "cell_type": "code",
      "metadata": {
        "id": "GmLYaKgxtgOB",
        "colab_type": "code",
        "colab": {
          "base_uri": "https://localhost:8080/",
          "height": 1000
        },
        "outputId": "527c44f8-8879-40ec-a6fe-227a1e7fa48c"
      },
      "source": [
        "import pydot\n",
        "from IPython.display import SVG\n",
        "from keras.utils.vis_utils import model_to_dot\n",
        "from keras.utils import plot_model\n",
        "plot_model(model, to_file='model.png')\n",
        "SVG(model_to_dot(model).create(prog='dot', format='svg'))"
      ],
      "execution_count": 23,
      "outputs": [
        {
          "output_type": "execute_result",
          "data": {
            "text/plain": [
              "<IPython.core.display.SVG object>"
            ],
            "image/svg+xml": "<svg height=\"3272pt\" viewBox=\"0.00 0.00 279.00 2454.00\" width=\"372pt\" xmlns=\"http://www.w3.org/2000/svg\" xmlns:xlink=\"http://www.w3.org/1999/xlink\">\n<g class=\"graph\" id=\"graph0\" transform=\"scale(1.3333 1.3333) rotate(0) translate(4 2450)\">\n<title>G</title>\n<polygon fill=\"#ffffff\" points=\"-4,4 -4,-2450 275,-2450 275,4 -4,4\" stroke=\"transparent\"/>\n<!-- 140557112164192 -->\n<g class=\"node\" id=\"node1\">\n<title>140557112164192</title>\n<polygon fill=\"none\" points=\"43.5,-2409.5 43.5,-2445.5 227.5,-2445.5 227.5,-2409.5 43.5,-2409.5\" stroke=\"#000000\"/>\n<text fill=\"#000000\" font-family=\"Times,serif\" font-size=\"14.00\" text-anchor=\"middle\" x=\"135.5\" y=\"-2423.8\">conv2d_1_input: InputLayer</text>\n</g>\n<!-- 140556077819552 -->\n<g class=\"node\" id=\"node2\">\n<title>140556077819552</title>\n<polygon fill=\"none\" points=\"69,-2336.5 69,-2372.5 202,-2372.5 202,-2336.5 69,-2336.5\" stroke=\"#000000\"/>\n<text fill=\"#000000\" font-family=\"Times,serif\" font-size=\"14.00\" text-anchor=\"middle\" x=\"135.5\" y=\"-2350.8\">conv2d_1: Conv2D</text>\n</g>\n<!-- 140557112164192&#45;&gt;140556077819552 -->\n<g class=\"edge\" id=\"edge1\">\n<title>140557112164192-&gt;140556077819552</title>\n<path d=\"M135.5,-2409.4551C135.5,-2401.3828 135.5,-2391.6764 135.5,-2382.6817\" fill=\"none\" stroke=\"#000000\"/>\n<polygon fill=\"#000000\" points=\"139.0001,-2382.5903 135.5,-2372.5904 132.0001,-2382.5904 139.0001,-2382.5903\" stroke=\"#000000\"/>\n</g>\n<!-- 140557112163744 -->\n<g class=\"node\" id=\"node3\">\n<title>140557112163744</title>\n<polygon fill=\"none\" points=\"58.5,-2263.5 58.5,-2299.5 212.5,-2299.5 212.5,-2263.5 58.5,-2263.5\" stroke=\"#000000\"/>\n<text fill=\"#000000\" font-family=\"Times,serif\" font-size=\"14.00\" text-anchor=\"middle\" x=\"135.5\" y=\"-2277.8\">activation_1: Activation</text>\n</g>\n<!-- 140556077819552&#45;&gt;140557112163744 -->\n<g class=\"edge\" id=\"edge2\">\n<title>140556077819552-&gt;140557112163744</title>\n<path d=\"M135.5,-2336.4551C135.5,-2328.3828 135.5,-2318.6764 135.5,-2309.6817\" fill=\"none\" stroke=\"#000000\"/>\n<polygon fill=\"#000000\" points=\"139.0001,-2309.5903 135.5,-2299.5904 132.0001,-2309.5904 139.0001,-2309.5903\" stroke=\"#000000\"/>\n</g>\n<!-- 140557112163912 -->\n<g class=\"node\" id=\"node4\">\n<title>140557112163912</title>\n<polygon fill=\"none\" points=\"68.5,-2190.5 68.5,-2226.5 202.5,-2226.5 202.5,-2190.5 68.5,-2190.5\" stroke=\"#000000\"/>\n<text fill=\"#000000\" font-family=\"Times,serif\" font-size=\"14.00\" text-anchor=\"middle\" x=\"135.5\" y=\"-2204.8\">dropout_1: Dropout</text>\n</g>\n<!-- 140557112163744&#45;&gt;140557112163912 -->\n<g class=\"edge\" id=\"edge3\">\n<title>140557112163744-&gt;140557112163912</title>\n<path d=\"M135.5,-2263.4551C135.5,-2255.3828 135.5,-2245.6764 135.5,-2236.6817\" fill=\"none\" stroke=\"#000000\"/>\n<polygon fill=\"#000000\" points=\"139.0001,-2236.5903 135.5,-2226.5904 132.0001,-2236.5904 139.0001,-2236.5903\" stroke=\"#000000\"/>\n</g>\n<!-- 140557185711408 -->\n<g class=\"node\" id=\"node5\">\n<title>140557185711408</title>\n<polygon fill=\"none\" points=\"0,-2117.5 0,-2153.5 271,-2153.5 271,-2117.5 0,-2117.5\" stroke=\"#000000\"/>\n<text fill=\"#000000\" font-family=\"Times,serif\" font-size=\"14.00\" text-anchor=\"middle\" x=\"135.5\" y=\"-2131.8\">batch_normalization_1: BatchNormalization</text>\n</g>\n<!-- 140557112163912&#45;&gt;140557185711408 -->\n<g class=\"edge\" id=\"edge4\">\n<title>140557112163912-&gt;140557185711408</title>\n<path d=\"M135.5,-2190.4551C135.5,-2182.3828 135.5,-2172.6764 135.5,-2163.6817\" fill=\"none\" stroke=\"#000000\"/>\n<polygon fill=\"#000000\" points=\"139.0001,-2163.5903 135.5,-2153.5904 132.0001,-2163.5904 139.0001,-2163.5903\" stroke=\"#000000\"/>\n</g>\n<!-- 140557112163968 -->\n<g class=\"node\" id=\"node6\">\n<title>140557112163968</title>\n<polygon fill=\"none\" points=\"69,-2044.5 69,-2080.5 202,-2080.5 202,-2044.5 69,-2044.5\" stroke=\"#000000\"/>\n<text fill=\"#000000\" font-family=\"Times,serif\" font-size=\"14.00\" text-anchor=\"middle\" x=\"135.5\" y=\"-2058.8\">conv2d_2: Conv2D</text>\n</g>\n<!-- 140557185711408&#45;&gt;140557112163968 -->\n<g class=\"edge\" id=\"edge5\">\n<title>140557185711408-&gt;140557112163968</title>\n<path d=\"M135.5,-2117.4551C135.5,-2109.3828 135.5,-2099.6764 135.5,-2090.6817\" fill=\"none\" stroke=\"#000000\"/>\n<polygon fill=\"#000000\" points=\"139.0001,-2090.5903 135.5,-2080.5904 132.0001,-2090.5904 139.0001,-2090.5903\" stroke=\"#000000\"/>\n</g>\n<!-- 140557354140000 -->\n<g class=\"node\" id=\"node7\">\n<title>140557354140000</title>\n<polygon fill=\"none\" points=\"58.5,-1971.5 58.5,-2007.5 212.5,-2007.5 212.5,-1971.5 58.5,-1971.5\" stroke=\"#000000\"/>\n<text fill=\"#000000\" font-family=\"Times,serif\" font-size=\"14.00\" text-anchor=\"middle\" x=\"135.5\" y=\"-1985.8\">activation_2: Activation</text>\n</g>\n<!-- 140557112163968&#45;&gt;140557354140000 -->\n<g class=\"edge\" id=\"edge6\">\n<title>140557112163968-&gt;140557354140000</title>\n<path d=\"M135.5,-2044.4551C135.5,-2036.3828 135.5,-2026.6764 135.5,-2017.6817\" fill=\"none\" stroke=\"#000000\"/>\n<polygon fill=\"#000000\" points=\"139.0001,-2017.5903 135.5,-2007.5904 132.0001,-2017.5904 139.0001,-2017.5903\" stroke=\"#000000\"/>\n</g>\n<!-- 140556078316344 -->\n<g class=\"node\" id=\"node8\">\n<title>140556078316344</title>\n<polygon fill=\"none\" points=\"25,-1898.5 25,-1934.5 246,-1934.5 246,-1898.5 25,-1898.5\" stroke=\"#000000\"/>\n<text fill=\"#000000\" font-family=\"Times,serif\" font-size=\"14.00\" text-anchor=\"middle\" x=\"135.5\" y=\"-1912.8\">max_pooling2d_1: MaxPooling2D</text>\n</g>\n<!-- 140557354140000&#45;&gt;140556078316344 -->\n<g class=\"edge\" id=\"edge7\">\n<title>140557354140000-&gt;140556078316344</title>\n<path d=\"M135.5,-1971.4551C135.5,-1963.3828 135.5,-1953.6764 135.5,-1944.6817\" fill=\"none\" stroke=\"#000000\"/>\n<polygon fill=\"#000000\" points=\"139.0001,-1944.5903 135.5,-1934.5904 132.0001,-1944.5904 139.0001,-1944.5903\" stroke=\"#000000\"/>\n</g>\n<!-- 140556077771800 -->\n<g class=\"node\" id=\"node9\">\n<title>140556077771800</title>\n<polygon fill=\"none\" points=\"68.5,-1825.5 68.5,-1861.5 202.5,-1861.5 202.5,-1825.5 68.5,-1825.5\" stroke=\"#000000\"/>\n<text fill=\"#000000\" font-family=\"Times,serif\" font-size=\"14.00\" text-anchor=\"middle\" x=\"135.5\" y=\"-1839.8\">dropout_2: Dropout</text>\n</g>\n<!-- 140556078316344&#45;&gt;140556077771800 -->\n<g class=\"edge\" id=\"edge8\">\n<title>140556078316344-&gt;140556077771800</title>\n<path d=\"M135.5,-1898.4551C135.5,-1890.3828 135.5,-1880.6764 135.5,-1871.6817\" fill=\"none\" stroke=\"#000000\"/>\n<polygon fill=\"#000000\" points=\"139.0001,-1871.5903 135.5,-1861.5904 132.0001,-1871.5904 139.0001,-1871.5903\" stroke=\"#000000\"/>\n</g>\n<!-- 140556083211232 -->\n<g class=\"node\" id=\"node10\">\n<title>140556083211232</title>\n<polygon fill=\"none\" points=\"0,-1752.5 0,-1788.5 271,-1788.5 271,-1752.5 0,-1752.5\" stroke=\"#000000\"/>\n<text fill=\"#000000\" font-family=\"Times,serif\" font-size=\"14.00\" text-anchor=\"middle\" x=\"135.5\" y=\"-1766.8\">batch_normalization_2: BatchNormalization</text>\n</g>\n<!-- 140556077771800&#45;&gt;140556083211232 -->\n<g class=\"edge\" id=\"edge9\">\n<title>140556077771800-&gt;140556083211232</title>\n<path d=\"M135.5,-1825.4551C135.5,-1817.3828 135.5,-1807.6764 135.5,-1798.6817\" fill=\"none\" stroke=\"#000000\"/>\n<polygon fill=\"#000000\" points=\"139.0001,-1798.5903 135.5,-1788.5904 132.0001,-1798.5904 139.0001,-1798.5903\" stroke=\"#000000\"/>\n</g>\n<!-- 140556077671928 -->\n<g class=\"node\" id=\"node11\">\n<title>140556077671928</title>\n<polygon fill=\"none\" points=\"69,-1679.5 69,-1715.5 202,-1715.5 202,-1679.5 69,-1679.5\" stroke=\"#000000\"/>\n<text fill=\"#000000\" font-family=\"Times,serif\" font-size=\"14.00\" text-anchor=\"middle\" x=\"135.5\" y=\"-1693.8\">conv2d_3: Conv2D</text>\n</g>\n<!-- 140556083211232&#45;&gt;140556077671928 -->\n<g class=\"edge\" id=\"edge10\">\n<title>140556083211232-&gt;140556077671928</title>\n<path d=\"M135.5,-1752.4551C135.5,-1744.3828 135.5,-1734.6764 135.5,-1725.6817\" fill=\"none\" stroke=\"#000000\"/>\n<polygon fill=\"#000000\" points=\"139.0001,-1725.5903 135.5,-1715.5904 132.0001,-1725.5904 139.0001,-1725.5903\" stroke=\"#000000\"/>\n</g>\n<!-- 140556077818656 -->\n<g class=\"node\" id=\"node12\">\n<title>140556077818656</title>\n<polygon fill=\"none\" points=\"58.5,-1606.5 58.5,-1642.5 212.5,-1642.5 212.5,-1606.5 58.5,-1606.5\" stroke=\"#000000\"/>\n<text fill=\"#000000\" font-family=\"Times,serif\" font-size=\"14.00\" text-anchor=\"middle\" x=\"135.5\" y=\"-1620.8\">activation_3: Activation</text>\n</g>\n<!-- 140556077671928&#45;&gt;140556077818656 -->\n<g class=\"edge\" id=\"edge11\">\n<title>140556077671928-&gt;140556077818656</title>\n<path d=\"M135.5,-1679.4551C135.5,-1671.3828 135.5,-1661.6764 135.5,-1652.6817\" fill=\"none\" stroke=\"#000000\"/>\n<polygon fill=\"#000000\" points=\"139.0001,-1652.5903 135.5,-1642.5904 132.0001,-1652.5904 139.0001,-1652.5903\" stroke=\"#000000\"/>\n</g>\n<!-- 140555969875640 -->\n<g class=\"node\" id=\"node13\">\n<title>140555969875640</title>\n<polygon fill=\"none\" points=\"68.5,-1533.5 68.5,-1569.5 202.5,-1569.5 202.5,-1533.5 68.5,-1533.5\" stroke=\"#000000\"/>\n<text fill=\"#000000\" font-family=\"Times,serif\" font-size=\"14.00\" text-anchor=\"middle\" x=\"135.5\" y=\"-1547.8\">dropout_3: Dropout</text>\n</g>\n<!-- 140556077818656&#45;&gt;140555969875640 -->\n<g class=\"edge\" id=\"edge12\">\n<title>140556077818656-&gt;140555969875640</title>\n<path d=\"M135.5,-1606.4551C135.5,-1598.3828 135.5,-1588.6764 135.5,-1579.6817\" fill=\"none\" stroke=\"#000000\"/>\n<polygon fill=\"#000000\" points=\"139.0001,-1579.5903 135.5,-1569.5904 132.0001,-1579.5904 139.0001,-1579.5903\" stroke=\"#000000\"/>\n</g>\n<!-- 140555969875696 -->\n<g class=\"node\" id=\"node14\">\n<title>140555969875696</title>\n<polygon fill=\"none\" points=\"0,-1460.5 0,-1496.5 271,-1496.5 271,-1460.5 0,-1460.5\" stroke=\"#000000\"/>\n<text fill=\"#000000\" font-family=\"Times,serif\" font-size=\"14.00\" text-anchor=\"middle\" x=\"135.5\" y=\"-1474.8\">batch_normalization_3: BatchNormalization</text>\n</g>\n<!-- 140555969875640&#45;&gt;140555969875696 -->\n<g class=\"edge\" id=\"edge13\">\n<title>140555969875640-&gt;140555969875696</title>\n<path d=\"M135.5,-1533.4551C135.5,-1525.3828 135.5,-1515.6764 135.5,-1506.6817\" fill=\"none\" stroke=\"#000000\"/>\n<polygon fill=\"#000000\" points=\"139.0001,-1506.5903 135.5,-1496.5904 132.0001,-1506.5904 139.0001,-1506.5903\" stroke=\"#000000\"/>\n</g>\n<!-- 140555969940672 -->\n<g class=\"node\" id=\"node15\">\n<title>140555969940672</title>\n<polygon fill=\"none\" points=\"79,-1387.5 79,-1423.5 192,-1423.5 192,-1387.5 79,-1387.5\" stroke=\"#000000\"/>\n<text fill=\"#000000\" font-family=\"Times,serif\" font-size=\"14.00\" text-anchor=\"middle\" x=\"135.5\" y=\"-1401.8\">flatten_1: Flatten</text>\n</g>\n<!-- 140555969875696&#45;&gt;140555969940672 -->\n<g class=\"edge\" id=\"edge14\">\n<title>140555969875696-&gt;140555969940672</title>\n<path d=\"M135.5,-1460.4551C135.5,-1452.3828 135.5,-1442.6764 135.5,-1433.6817\" fill=\"none\" stroke=\"#000000\"/>\n<polygon fill=\"#000000\" points=\"139.0001,-1433.5903 135.5,-1423.5904 132.0001,-1433.5904 139.0001,-1433.5903\" stroke=\"#000000\"/>\n</g>\n<!-- 140555969985840 -->\n<g class=\"node\" id=\"node16\">\n<title>140555969985840</title>\n<polygon fill=\"none\" points=\"68.5,-1314.5 68.5,-1350.5 202.5,-1350.5 202.5,-1314.5 68.5,-1314.5\" stroke=\"#000000\"/>\n<text fill=\"#000000\" font-family=\"Times,serif\" font-size=\"14.00\" text-anchor=\"middle\" x=\"135.5\" y=\"-1328.8\">dropout_4: Dropout</text>\n</g>\n<!-- 140555969940672&#45;&gt;140555969985840 -->\n<g class=\"edge\" id=\"edge15\">\n<title>140555969940672-&gt;140555969985840</title>\n<path d=\"M135.5,-1387.4551C135.5,-1379.3828 135.5,-1369.6764 135.5,-1360.6817\" fill=\"none\" stroke=\"#000000\"/>\n<polygon fill=\"#000000\" points=\"139.0001,-1360.5903 135.5,-1350.5904 132.0001,-1360.5904 139.0001,-1360.5903\" stroke=\"#000000\"/>\n</g>\n<!-- 140556078103352 -->\n<g class=\"node\" id=\"node17\">\n<title>140556078103352</title>\n<polygon fill=\"none\" points=\"82,-1241.5 82,-1277.5 189,-1277.5 189,-1241.5 82,-1241.5\" stroke=\"#000000\"/>\n<text fill=\"#000000\" font-family=\"Times,serif\" font-size=\"14.00\" text-anchor=\"middle\" x=\"135.5\" y=\"-1255.8\">dense_1: Dense</text>\n</g>\n<!-- 140555969985840&#45;&gt;140556078103352 -->\n<g class=\"edge\" id=\"edge16\">\n<title>140555969985840-&gt;140556078103352</title>\n<path d=\"M135.5,-1314.4551C135.5,-1306.3828 135.5,-1296.6764 135.5,-1287.6817\" fill=\"none\" stroke=\"#000000\"/>\n<polygon fill=\"#000000\" points=\"139.0001,-1287.5903 135.5,-1277.5904 132.0001,-1287.5904 139.0001,-1287.5903\" stroke=\"#000000\"/>\n</g>\n<!-- 140556078103464 -->\n<g class=\"node\" id=\"node18\">\n<title>140556078103464</title>\n<polygon fill=\"none\" points=\"58.5,-1168.5 58.5,-1204.5 212.5,-1204.5 212.5,-1168.5 58.5,-1168.5\" stroke=\"#000000\"/>\n<text fill=\"#000000\" font-family=\"Times,serif\" font-size=\"14.00\" text-anchor=\"middle\" x=\"135.5\" y=\"-1182.8\">activation_4: Activation</text>\n</g>\n<!-- 140556078103352&#45;&gt;140556078103464 -->\n<g class=\"edge\" id=\"edge17\">\n<title>140556078103352-&gt;140556078103464</title>\n<path d=\"M135.5,-1241.4551C135.5,-1233.3828 135.5,-1223.6764 135.5,-1214.6817\" fill=\"none\" stroke=\"#000000\"/>\n<polygon fill=\"#000000\" points=\"139.0001,-1214.5903 135.5,-1204.5904 132.0001,-1214.5904 139.0001,-1214.5903\" stroke=\"#000000\"/>\n</g>\n<!-- 140557185711576 -->\n<g class=\"node\" id=\"node19\">\n<title>140557185711576</title>\n<polygon fill=\"none\" points=\"68.5,-1095.5 68.5,-1131.5 202.5,-1131.5 202.5,-1095.5 68.5,-1095.5\" stroke=\"#000000\"/>\n<text fill=\"#000000\" font-family=\"Times,serif\" font-size=\"14.00\" text-anchor=\"middle\" x=\"135.5\" y=\"-1109.8\">dropout_5: Dropout</text>\n</g>\n<!-- 140556078103464&#45;&gt;140557185711576 -->\n<g class=\"edge\" id=\"edge18\">\n<title>140556078103464-&gt;140557185711576</title>\n<path d=\"M135.5,-1168.4551C135.5,-1160.3828 135.5,-1150.6764 135.5,-1141.6817\" fill=\"none\" stroke=\"#000000\"/>\n<polygon fill=\"#000000\" points=\"139.0001,-1141.5903 135.5,-1131.5904 132.0001,-1141.5904 139.0001,-1141.5903\" stroke=\"#000000\"/>\n</g>\n<!-- 140557185711072 -->\n<g class=\"node\" id=\"node20\">\n<title>140557185711072</title>\n<polygon fill=\"none\" points=\"0,-1022.5 0,-1058.5 271,-1058.5 271,-1022.5 0,-1022.5\" stroke=\"#000000\"/>\n<text fill=\"#000000\" font-family=\"Times,serif\" font-size=\"14.00\" text-anchor=\"middle\" x=\"135.5\" y=\"-1036.8\">batch_normalization_4: BatchNormalization</text>\n</g>\n<!-- 140557185711576&#45;&gt;140557185711072 -->\n<g class=\"edge\" id=\"edge19\">\n<title>140557185711576-&gt;140557185711072</title>\n<path d=\"M135.5,-1095.4551C135.5,-1087.3828 135.5,-1077.6764 135.5,-1068.6817\" fill=\"none\" stroke=\"#000000\"/>\n<polygon fill=\"#000000\" points=\"139.0001,-1068.5903 135.5,-1058.5904 132.0001,-1068.5904 139.0001,-1068.5903\" stroke=\"#000000\"/>\n</g>\n<!-- 140555969531576 -->\n<g class=\"node\" id=\"node21\">\n<title>140555969531576</title>\n<polygon fill=\"none\" points=\"82,-949.5 82,-985.5 189,-985.5 189,-949.5 82,-949.5\" stroke=\"#000000\"/>\n<text fill=\"#000000\" font-family=\"Times,serif\" font-size=\"14.00\" text-anchor=\"middle\" x=\"135.5\" y=\"-963.8\">dense_2: Dense</text>\n</g>\n<!-- 140557185711072&#45;&gt;140555969531576 -->\n<g class=\"edge\" id=\"edge20\">\n<title>140557185711072-&gt;140555969531576</title>\n<path d=\"M135.5,-1022.4551C135.5,-1014.3828 135.5,-1004.6764 135.5,-995.6817\" fill=\"none\" stroke=\"#000000\"/>\n<polygon fill=\"#000000\" points=\"139.0001,-995.5903 135.5,-985.5904 132.0001,-995.5904 139.0001,-995.5903\" stroke=\"#000000\"/>\n</g>\n<!-- 140556077817984 -->\n<g class=\"node\" id=\"node22\">\n<title>140556077817984</title>\n<polygon fill=\"none\" points=\"58.5,-876.5 58.5,-912.5 212.5,-912.5 212.5,-876.5 58.5,-876.5\" stroke=\"#000000\"/>\n<text fill=\"#000000\" font-family=\"Times,serif\" font-size=\"14.00\" text-anchor=\"middle\" x=\"135.5\" y=\"-890.8\">activation_5: Activation</text>\n</g>\n<!-- 140555969531576&#45;&gt;140556077817984 -->\n<g class=\"edge\" id=\"edge21\">\n<title>140555969531576-&gt;140556077817984</title>\n<path d=\"M135.5,-949.4551C135.5,-941.3828 135.5,-931.6764 135.5,-922.6817\" fill=\"none\" stroke=\"#000000\"/>\n<polygon fill=\"#000000\" points=\"139.0001,-922.5903 135.5,-912.5904 132.0001,-922.5904 139.0001,-922.5903\" stroke=\"#000000\"/>\n</g>\n<!-- 140555969441520 -->\n<g class=\"node\" id=\"node23\">\n<title>140555969441520</title>\n<polygon fill=\"none\" points=\"68.5,-803.5 68.5,-839.5 202.5,-839.5 202.5,-803.5 68.5,-803.5\" stroke=\"#000000\"/>\n<text fill=\"#000000\" font-family=\"Times,serif\" font-size=\"14.00\" text-anchor=\"middle\" x=\"135.5\" y=\"-817.8\">dropout_6: Dropout</text>\n</g>\n<!-- 140556077817984&#45;&gt;140555969441520 -->\n<g class=\"edge\" id=\"edge22\">\n<title>140556077817984-&gt;140555969441520</title>\n<path d=\"M135.5,-876.4551C135.5,-868.3828 135.5,-858.6764 135.5,-849.6817\" fill=\"none\" stroke=\"#000000\"/>\n<polygon fill=\"#000000\" points=\"139.0001,-849.5903 135.5,-839.5904 132.0001,-849.5904 139.0001,-849.5903\" stroke=\"#000000\"/>\n</g>\n<!-- 140555969463408 -->\n<g class=\"node\" id=\"node24\">\n<title>140555969463408</title>\n<polygon fill=\"none\" points=\"0,-730.5 0,-766.5 271,-766.5 271,-730.5 0,-730.5\" stroke=\"#000000\"/>\n<text fill=\"#000000\" font-family=\"Times,serif\" font-size=\"14.00\" text-anchor=\"middle\" x=\"135.5\" y=\"-744.8\">batch_normalization_5: BatchNormalization</text>\n</g>\n<!-- 140555969441520&#45;&gt;140555969463408 -->\n<g class=\"edge\" id=\"edge23\">\n<title>140555969441520-&gt;140555969463408</title>\n<path d=\"M135.5,-803.4551C135.5,-795.3828 135.5,-785.6764 135.5,-776.6817\" fill=\"none\" stroke=\"#000000\"/>\n<polygon fill=\"#000000\" points=\"139.0001,-776.5903 135.5,-766.5904 132.0001,-776.5904 139.0001,-776.5903\" stroke=\"#000000\"/>\n</g>\n<!-- 140555968908312 -->\n<g class=\"node\" id=\"node25\">\n<title>140555968908312</title>\n<polygon fill=\"none\" points=\"82,-657.5 82,-693.5 189,-693.5 189,-657.5 82,-657.5\" stroke=\"#000000\"/>\n<text fill=\"#000000\" font-family=\"Times,serif\" font-size=\"14.00\" text-anchor=\"middle\" x=\"135.5\" y=\"-671.8\">dense_3: Dense</text>\n</g>\n<!-- 140555969463408&#45;&gt;140555968908312 -->\n<g class=\"edge\" id=\"edge24\">\n<title>140555969463408-&gt;140555968908312</title>\n<path d=\"M135.5,-730.4551C135.5,-722.3828 135.5,-712.6764 135.5,-703.6817\" fill=\"none\" stroke=\"#000000\"/>\n<polygon fill=\"#000000\" points=\"139.0001,-703.5903 135.5,-693.5904 132.0001,-703.5904 139.0001,-703.5903\" stroke=\"#000000\"/>\n</g>\n<!-- 140555968908200 -->\n<g class=\"node\" id=\"node26\">\n<title>140555968908200</title>\n<polygon fill=\"none\" points=\"58.5,-584.5 58.5,-620.5 212.5,-620.5 212.5,-584.5 58.5,-584.5\" stroke=\"#000000\"/>\n<text fill=\"#000000\" font-family=\"Times,serif\" font-size=\"14.00\" text-anchor=\"middle\" x=\"135.5\" y=\"-598.8\">activation_6: Activation</text>\n</g>\n<!-- 140555968908312&#45;&gt;140555968908200 -->\n<g class=\"edge\" id=\"edge25\">\n<title>140555968908312-&gt;140555968908200</title>\n<path d=\"M135.5,-657.4551C135.5,-649.3828 135.5,-639.6764 135.5,-630.6817\" fill=\"none\" stroke=\"#000000\"/>\n<polygon fill=\"#000000\" points=\"139.0001,-630.5903 135.5,-620.5904 132.0001,-630.5904 139.0001,-630.5903\" stroke=\"#000000\"/>\n</g>\n<!-- 140555968908704 -->\n<g class=\"node\" id=\"node27\">\n<title>140555968908704</title>\n<polygon fill=\"none\" points=\"68.5,-511.5 68.5,-547.5 202.5,-547.5 202.5,-511.5 68.5,-511.5\" stroke=\"#000000\"/>\n<text fill=\"#000000\" font-family=\"Times,serif\" font-size=\"14.00\" text-anchor=\"middle\" x=\"135.5\" y=\"-525.8\">dropout_7: Dropout</text>\n</g>\n<!-- 140555968908200&#45;&gt;140555968908704 -->\n<g class=\"edge\" id=\"edge26\">\n<title>140555968908200-&gt;140555968908704</title>\n<path d=\"M135.5,-584.4551C135.5,-576.3828 135.5,-566.6764 135.5,-557.6817\" fill=\"none\" stroke=\"#000000\"/>\n<polygon fill=\"#000000\" points=\"139.0001,-557.5903 135.5,-547.5904 132.0001,-557.5904 139.0001,-557.5903\" stroke=\"#000000\"/>\n</g>\n<!-- 140555968908760 -->\n<g class=\"node\" id=\"node28\">\n<title>140555968908760</title>\n<polygon fill=\"none\" points=\"0,-438.5 0,-474.5 271,-474.5 271,-438.5 0,-438.5\" stroke=\"#000000\"/>\n<text fill=\"#000000\" font-family=\"Times,serif\" font-size=\"14.00\" text-anchor=\"middle\" x=\"135.5\" y=\"-452.8\">batch_normalization_6: BatchNormalization</text>\n</g>\n<!-- 140555968908704&#45;&gt;140555968908760 -->\n<g class=\"edge\" id=\"edge27\">\n<title>140555968908704-&gt;140555968908760</title>\n<path d=\"M135.5,-511.4551C135.5,-503.3828 135.5,-493.6764 135.5,-484.6817\" fill=\"none\" stroke=\"#000000\"/>\n<polygon fill=\"#000000\" points=\"139.0001,-484.5903 135.5,-474.5904 132.0001,-484.5904 139.0001,-484.5903\" stroke=\"#000000\"/>\n</g>\n<!-- 140555968908984 -->\n<g class=\"node\" id=\"node29\">\n<title>140555968908984</title>\n<polygon fill=\"none\" points=\"82,-365.5 82,-401.5 189,-401.5 189,-365.5 82,-365.5\" stroke=\"#000000\"/>\n<text fill=\"#000000\" font-family=\"Times,serif\" font-size=\"14.00\" text-anchor=\"middle\" x=\"135.5\" y=\"-379.8\">dense_4: Dense</text>\n</g>\n<!-- 140555968908760&#45;&gt;140555968908984 -->\n<g class=\"edge\" id=\"edge28\">\n<title>140555968908760-&gt;140555968908984</title>\n<path d=\"M135.5,-438.4551C135.5,-430.3828 135.5,-420.6764 135.5,-411.6817\" fill=\"none\" stroke=\"#000000\"/>\n<polygon fill=\"#000000\" points=\"139.0001,-411.5903 135.5,-401.5904 132.0001,-411.5904 139.0001,-411.5903\" stroke=\"#000000\"/>\n</g>\n<!-- 140555968908648 -->\n<g class=\"node\" id=\"node30\">\n<title>140555968908648</title>\n<polygon fill=\"none\" points=\"58.5,-292.5 58.5,-328.5 212.5,-328.5 212.5,-292.5 58.5,-292.5\" stroke=\"#000000\"/>\n<text fill=\"#000000\" font-family=\"Times,serif\" font-size=\"14.00\" text-anchor=\"middle\" x=\"135.5\" y=\"-306.8\">activation_7: Activation</text>\n</g>\n<!-- 140555968908984&#45;&gt;140555968908648 -->\n<g class=\"edge\" id=\"edge29\">\n<title>140555968908984-&gt;140555968908648</title>\n<path d=\"M135.5,-365.4551C135.5,-357.3828 135.5,-347.6764 135.5,-338.6817\" fill=\"none\" stroke=\"#000000\"/>\n<polygon fill=\"#000000\" points=\"139.0001,-338.5903 135.5,-328.5904 132.0001,-338.5904 139.0001,-338.5903\" stroke=\"#000000\"/>\n</g>\n<!-- 140555968962288 -->\n<g class=\"node\" id=\"node31\">\n<title>140555968962288</title>\n<polygon fill=\"none\" points=\"68.5,-219.5 68.5,-255.5 202.5,-255.5 202.5,-219.5 68.5,-219.5\" stroke=\"#000000\"/>\n<text fill=\"#000000\" font-family=\"Times,serif\" font-size=\"14.00\" text-anchor=\"middle\" x=\"135.5\" y=\"-233.8\">dropout_8: Dropout</text>\n</g>\n<!-- 140555968908648&#45;&gt;140555968962288 -->\n<g class=\"edge\" id=\"edge30\">\n<title>140555968908648-&gt;140555968962288</title>\n<path d=\"M135.5,-292.4551C135.5,-284.3828 135.5,-274.6764 135.5,-265.6817\" fill=\"none\" stroke=\"#000000\"/>\n<polygon fill=\"#000000\" points=\"139.0001,-265.5903 135.5,-255.5904 132.0001,-265.5904 139.0001,-265.5903\" stroke=\"#000000\"/>\n</g>\n<!-- 140555968271472 -->\n<g class=\"node\" id=\"node32\">\n<title>140555968271472</title>\n<polygon fill=\"none\" points=\"0,-146.5 0,-182.5 271,-182.5 271,-146.5 0,-146.5\" stroke=\"#000000\"/>\n<text fill=\"#000000\" font-family=\"Times,serif\" font-size=\"14.00\" text-anchor=\"middle\" x=\"135.5\" y=\"-160.8\">batch_normalization_7: BatchNormalization</text>\n</g>\n<!-- 140555968962288&#45;&gt;140555968271472 -->\n<g class=\"edge\" id=\"edge31\">\n<title>140555968962288-&gt;140555968271472</title>\n<path d=\"M135.5,-219.4551C135.5,-211.3828 135.5,-201.6764 135.5,-192.6817\" fill=\"none\" stroke=\"#000000\"/>\n<polygon fill=\"#000000\" points=\"139.0001,-192.5903 135.5,-182.5904 132.0001,-192.5904 139.0001,-192.5903\" stroke=\"#000000\"/>\n</g>\n<!-- 140555968272368 -->\n<g class=\"node\" id=\"node33\">\n<title>140555968272368</title>\n<polygon fill=\"none\" points=\"82,-73.5 82,-109.5 189,-109.5 189,-73.5 82,-73.5\" stroke=\"#000000\"/>\n<text fill=\"#000000\" font-family=\"Times,serif\" font-size=\"14.00\" text-anchor=\"middle\" x=\"135.5\" y=\"-87.8\">dense_5: Dense</text>\n</g>\n<!-- 140555968271472&#45;&gt;140555968272368 -->\n<g class=\"edge\" id=\"edge32\">\n<title>140555968271472-&gt;140555968272368</title>\n<path d=\"M135.5,-146.4551C135.5,-138.3828 135.5,-128.6764 135.5,-119.6817\" fill=\"none\" stroke=\"#000000\"/>\n<polygon fill=\"#000000\" points=\"139.0001,-119.5903 135.5,-109.5904 132.0001,-119.5904 139.0001,-119.5903\" stroke=\"#000000\"/>\n</g>\n<!-- 140555968385320 -->\n<g class=\"node\" id=\"node34\">\n<title>140555968385320</title>\n<polygon fill=\"none\" points=\"58.5,-.5 58.5,-36.5 212.5,-36.5 212.5,-.5 58.5,-.5\" stroke=\"#000000\"/>\n<text fill=\"#000000\" font-family=\"Times,serif\" font-size=\"14.00\" text-anchor=\"middle\" x=\"135.5\" y=\"-14.8\">activation_8: Activation</text>\n</g>\n<!-- 140555968272368&#45;&gt;140555968385320 -->\n<g class=\"edge\" id=\"edge33\">\n<title>140555968272368-&gt;140555968385320</title>\n<path d=\"M135.5,-73.4551C135.5,-65.3828 135.5,-55.6764 135.5,-46.6817\" fill=\"none\" stroke=\"#000000\"/>\n<polygon fill=\"#000000\" points=\"139.0001,-46.5903 135.5,-36.5904 132.0001,-46.5904 139.0001,-46.5903\" stroke=\"#000000\"/>\n</g>\n</g>\n</svg>"
          },
          "metadata": {
            "tags": []
          },
          "execution_count": 23
        }
      ]
    },
    {
      "cell_type": "code",
      "metadata": {
        "id": "VUYk7J6704_v",
        "colab_type": "code",
        "colab": {
          "base_uri": "https://localhost:8080/",
          "height": 1000
        },
        "outputId": "e907d45f-c2d8-4d0c-c551-52d7e81d1058"
      },
      "source": [
        "model.summary()"
      ],
      "execution_count": 28,
      "outputs": [
        {
          "output_type": "stream",
          "text": [
            "Model: \"sequential_1\"\n",
            "_________________________________________________________________\n",
            "Layer (type)                 Output Shape              Param #   \n",
            "=================================================================\n",
            "conv2d_1 (Conv2D)            (None, 28, 28, 32)        320       \n",
            "_________________________________________________________________\n",
            "activation_1 (Activation)    (None, 28, 28, 32)        0         \n",
            "_________________________________________________________________\n",
            "dropout_1 (Dropout)          (None, 28, 28, 32)        0         \n",
            "_________________________________________________________________\n",
            "batch_normalization_1 (Batch (None, 28, 28, 32)        128       \n",
            "_________________________________________________________________\n",
            "conv2d_2 (Conv2D)            (None, 28, 28, 64)        18496     \n",
            "_________________________________________________________________\n",
            "activation_2 (Activation)    (None, 28, 28, 64)        0         \n",
            "_________________________________________________________________\n",
            "max_pooling2d_1 (MaxPooling2 (None, 14, 14, 64)        0         \n",
            "_________________________________________________________________\n",
            "dropout_2 (Dropout)          (None, 14, 14, 64)        0         \n",
            "_________________________________________________________________\n",
            "batch_normalization_2 (Batch (None, 14, 14, 64)        256       \n",
            "_________________________________________________________________\n",
            "conv2d_3 (Conv2D)            (None, 14, 14, 128)       73856     \n",
            "_________________________________________________________________\n",
            "activation_3 (Activation)    (None, 14, 14, 128)       0         \n",
            "_________________________________________________________________\n",
            "dropout_3 (Dropout)          (None, 14, 14, 128)       0         \n",
            "_________________________________________________________________\n",
            "batch_normalization_3 (Batch (None, 14, 14, 128)       512       \n",
            "_________________________________________________________________\n",
            "flatten_1 (Flatten)          (None, 25088)             0         \n",
            "_________________________________________________________________\n",
            "dropout_4 (Dropout)          (None, 25088)             0         \n",
            "_________________________________________________________________\n",
            "dense_1 (Dense)              (None, 256)               6422784   \n",
            "_________________________________________________________________\n",
            "activation_4 (Activation)    (None, 256)               0         \n",
            "_________________________________________________________________\n",
            "dropout_5 (Dropout)          (None, 256)               0         \n",
            "_________________________________________________________________\n",
            "batch_normalization_4 (Batch (None, 256)               1024      \n",
            "_________________________________________________________________\n",
            "dense_2 (Dense)              (None, 128)               32896     \n",
            "_________________________________________________________________\n",
            "activation_5 (Activation)    (None, 128)               0         \n",
            "_________________________________________________________________\n",
            "dropout_6 (Dropout)          (None, 128)               0         \n",
            "_________________________________________________________________\n",
            "batch_normalization_5 (Batch (None, 128)               512       \n",
            "_________________________________________________________________\n",
            "dense_3 (Dense)              (None, 256)               33024     \n",
            "_________________________________________________________________\n",
            "activation_6 (Activation)    (None, 256)               0         \n",
            "_________________________________________________________________\n",
            "dropout_7 (Dropout)          (None, 256)               0         \n",
            "_________________________________________________________________\n",
            "batch_normalization_6 (Batch (None, 256)               1024      \n",
            "_________________________________________________________________\n",
            "dense_4 (Dense)              (None, 128)               32896     \n",
            "_________________________________________________________________\n",
            "activation_7 (Activation)    (None, 128)               0         \n",
            "_________________________________________________________________\n",
            "dropout_8 (Dropout)          (None, 128)               0         \n",
            "_________________________________________________________________\n",
            "batch_normalization_7 (Batch (None, 128)               512       \n",
            "_________________________________________________________________\n",
            "dense_5 (Dense)              (None, 10)                1290      \n",
            "_________________________________________________________________\n",
            "activation_8 (Activation)    (None, 10)                0         \n",
            "=================================================================\n",
            "Total params: 6,619,530\n",
            "Trainable params: 6,617,546\n",
            "Non-trainable params: 1,984\n",
            "_________________________________________________________________\n"
          ],
          "name": "stdout"
        }
      ]
    },
    {
      "cell_type": "code",
      "metadata": {
        "id": "UOJjDuUK3q6U",
        "colab_type": "code",
        "colab": {}
      },
      "source": [
        ""
      ],
      "execution_count": 0,
      "outputs": []
    }
  ]
}