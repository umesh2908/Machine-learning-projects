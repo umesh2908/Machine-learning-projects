{
  "nbformat": 4,
  "nbformat_minor": 0,
  "metadata": {
    "colab": {
      "name": "MINST_fashion_Image_Recognition_model.ipynb",
      "provenance": [],
      "collapsed_sections": [],
      "authorship_tag": "ABX9TyPYjYcISQoHyTsG0iPBskMC",
      "include_colab_link": true
    },
    "kernelspec": {
      "name": "python3",
      "display_name": "Python 3"
    }
  },
  "cells": [
    {
      "cell_type": "markdown",
      "metadata": {
        "id": "view-in-github",
        "colab_type": "text"
      },
      "source": [
        "<a href=\"https://colab.research.google.com/github/umesh2908/Machine-learning-projects/blob/master/MINST_fashion_Image_Recognition_model.ipynb\" target=\"_parent\"><img src=\"https://colab.research.google.com/assets/colab-badge.svg\" alt=\"Open In Colab\"/></a>"
      ]
    },
    {
      "cell_type": "code",
      "metadata": {
        "id": "Toq5Z2b9Ep2b",
        "colab_type": "code",
        "colab": {}
      },
      "source": [
        "import pandas as pd\n",
        "import numpy as np\n",
        "import matplotlib.pyplot as plt\n",
        "import tensorflow as tf\n",
        "from tensorflow import keras \n",
        "import seaborn as sns"
      ],
      "execution_count": 0,
      "outputs": []
    },
    {
      "cell_type": "code",
      "metadata": {
        "id": "BGkBcJ4DMVEz",
        "colab_type": "code",
        "colab": {}
      },
      "source": [
        "mnist = tf.keras.datasets.fashion_mnist"
      ],
      "execution_count": 0,
      "outputs": []
    },
    {
      "cell_type": "code",
      "metadata": {
        "id": "XHViIFaOMZ2e",
        "colab_type": "code",
        "colab": {}
      },
      "source": [
        "(training_images, training_labels), (test_images, test_labels) = mnist.load_data()"
      ],
      "execution_count": 0,
      "outputs": []
    },
    {
      "cell_type": "code",
      "metadata": {
        "id": "NJmA0rZuMczI",
        "colab_type": "code",
        "colab": {
          "base_uri": "https://localhost:8080/",
          "height": 780
        },
        "outputId": "cdfc8228-910f-4fc3-f4ef-1f006589cba9"
      },
      "source": [
        "np.set_printoptions(linewidth=200)\n",
        "import matplotlib.pyplot as plt\n",
        "plt.imshow(training_images[0])\n",
        "print(training_labels[0])\n",
        "print(training_images[0])"
      ],
      "execution_count": 82,
      "outputs": [
        {
          "output_type": "stream",
          "text": [
            "9\n",
            "[[  0   0   0   0   0   0   0   0   0   0   0   0   0   0   0   0   0   0   0   0   0   0   0   0   0   0   0   0]\n",
            " [  0   0   0   0   0   0   0   0   0   0   0   0   0   0   0   0   0   0   0   0   0   0   0   0   0   0   0   0]\n",
            " [  0   0   0   0   0   0   0   0   0   0   0   0   0   0   0   0   0   0   0   0   0   0   0   0   0   0   0   0]\n",
            " [  0   0   0   0   0   0   0   0   0   0   0   0   1   0   0  13  73   0   0   1   4   0   0   0   0   1   1   0]\n",
            " [  0   0   0   0   0   0   0   0   0   0   0   0   3   0  36 136 127  62  54   0   0   0   1   3   4   0   0   3]\n",
            " [  0   0   0   0   0   0   0   0   0   0   0   0   6   0 102 204 176 134 144 123  23   0   0   0   0  12  10   0]\n",
            " [  0   0   0   0   0   0   0   0   0   0   0   0   0   0 155 236 207 178 107 156 161 109  64  23  77 130  72  15]\n",
            " [  0   0   0   0   0   0   0   0   0   0   0   1   0  69 207 223 218 216 216 163 127 121 122 146 141  88 172  66]\n",
            " [  0   0   0   0   0   0   0   0   0   1   1   1   0 200 232 232 233 229 223 223 215 213 164 127 123 196 229   0]\n",
            " [  0   0   0   0   0   0   0   0   0   0   0   0   0 183 225 216 223 228 235 227 224 222 224 221 223 245 173   0]\n",
            " [  0   0   0   0   0   0   0   0   0   0   0   0   0 193 228 218 213 198 180 212 210 211 213 223 220 243 202   0]\n",
            " [  0   0   0   0   0   0   0   0   0   1   3   0  12 219 220 212 218 192 169 227 208 218 224 212 226 197 209  52]\n",
            " [  0   0   0   0   0   0   0   0   0   0   6   0  99 244 222 220 218 203 198 221 215 213 222 220 245 119 167  56]\n",
            " [  0   0   0   0   0   0   0   0   0   4   0   0  55 236 228 230 228 240 232 213 218 223 234 217 217 209  92   0]\n",
            " [  0   0   1   4   6   7   2   0   0   0   0   0 237 226 217 223 222 219 222 221 216 223 229 215 218 255  77   0]\n",
            " [  0   3   0   0   0   0   0   0   0  62 145 204 228 207 213 221 218 208 211 218 224 223 219 215 224 244 159   0]\n",
            " [  0   0   0   0  18  44  82 107 189 228 220 222 217 226 200 205 211 230 224 234 176 188 250 248 233 238 215   0]\n",
            " [  0  57 187 208 224 221 224 208 204 214 208 209 200 159 245 193 206 223 255 255 221 234 221 211 220 232 246   0]\n",
            " [  3 202 228 224 221 211 211 214 205 205 205 220 240  80 150 255 229 221 188 154 191 210 204 209 222 228 225   0]\n",
            " [ 98 233 198 210 222 229 229 234 249 220 194 215 217 241  65  73 106 117 168 219 221 215 217 223 223 224 229  29]\n",
            " [ 75 204 212 204 193 205 211 225 216 185 197 206 198 213 240 195 227 245 239 223 218 212 209 222 220 221 230  67]\n",
            " [ 48 203 183 194 213 197 185 190 194 192 202 214 219 221 220 236 225 216 199 206 186 181 177 172 181 205 206 115]\n",
            " [  0 122 219 193 179 171 183 196 204 210 213 207 211 210 200 196 194 191 195 191 198 192 176 156 167 177 210  92]\n",
            " [  0   0  74 189 212 191 175 172 175 181 185 188 189 188 193 198 204 209 210 210 211 188 188 194 192 216 170   0]\n",
            " [  2   0   0   0  66 200 222 237 239 242 246 243 244 221 220 193 191 179 182 182 181 176 166 168  99  58   0   0]\n",
            " [  0   0   0   0   0   0   0  40  61  44  72  41  35   0   0   0   0   0   0   0   0   0   0   0   0   0   0   0]\n",
            " [  0   0   0   0   0   0   0   0   0   0   0   0   0   0   0   0   0   0   0   0   0   0   0   0   0   0   0   0]\n",
            " [  0   0   0   0   0   0   0   0   0   0   0   0   0   0   0   0   0   0   0   0   0   0   0   0   0   0   0   0]]\n"
          ],
          "name": "stdout"
        },
        {
          "output_type": "display_data",
          "data": {
            "image/png": "[encoded data removed]",
            "text/plain": [
              "<Figure size 432x288 with 1 Axes>"
            ]
          },
          "metadata": {
            "tags": []
          }
        }
      ]
    },
    {
      "cell_type": "code",
      "metadata": {
        "id": "WYmLYT9SMiTZ",
        "colab_type": "code",
        "colab": {
          "base_uri": "https://localhost:8080/",
          "height": 34
        },
        "outputId": "e02ddf28-a749-41b5-c4b7-cdf266ee031a"
      },
      "source": [
        "training_images  = training_images / 255.0\n",
        "test_images = test_images / 255.0\n",
        "training_images.shape, test_images.shape"
      ],
      "execution_count": 83,
      "outputs": [
        {
          "output_type": "execute_result",
          "data": {
            "text/plain": [
              "((60000, 28, 28), (10000, 28, 28))"
            ]
          },
          "metadata": {
            "tags": []
          },
          "execution_count": 83
        }
      ]
    },
    {
      "cell_type": "code",
      "metadata": {
        "id": "sqs6a1DWMquT",
        "colab_type": "code",
        "colab": {}
      },
      "source": [
        "import random\n",
        "np.random.seed(1)\n",
        "model = tf.keras.models.Sequential([tf.keras.layers.Flatten(), \n",
        "                                    tf.keras.layers.Dense(512, activation=tf.nn.relu),\n",
        "                                    tf.keras.layers.Dense(10, activation=tf.nn.softmax)])"
      ],
      "execution_count": 0,
      "outputs": []
    },
    {
      "cell_type": "code",
      "metadata": {
        "id": "5ZQNRNZSNKmU",
        "colab_type": "code",
        "colab": {}
      },
      "source": [
        "model.compile(optimizer = tf.optimizers.Adam(),\n",
        "              loss = 'sparse_categorical_crossentropy',\n",
        "              metrics=['accuracy'])"
      ],
      "execution_count": 0,
      "outputs": []
    },
    {
      "cell_type": "code",
      "metadata": {
        "id": "nUpx95WrToXP",
        "colab_type": "code",
        "colab": {}
      },
      "source": [
        "class myCallback(tf.keras.callbacks.Callback):\n",
        "  def on_epoch_end(self, epoch, logs={}):\n",
        "    if(logs.get('loss')<0.01):\n",
        "      print(\"\\nReached 90% accuracy so cancelling training!\")\n",
        "      self.model.stop_training = True\n",
        "callbacks = myCallback()      "
      ],
      "execution_count": 0,
      "outputs": []
    },
    {
      "cell_type": "code",
      "metadata": {
        "id": "OfnoPM45NrBR",
        "colab_type": "code",
        "colab": {
          "base_uri": "https://localhost:8080/",
          "height": 1000
        },
        "outputId": "d8b1d7ae-10e3-4556-dd32-9e23e668e606"
      },
      "source": [
        "history=model.fit(training_images, training_labels, epochs=100,batch_size=32,validation_split=0.1,callbacks=[callbacks])"
      ],
      "execution_count": 90,
      "outputs": [
        {
          "output_type": "stream",
          "text": [
            "Epoch 1/100\n",
            "1688/1688 [==============================] - 7s 4ms/step - loss: 0.4804 - accuracy: 0.8295 - val_loss: 0.3822 - val_accuracy: 0.8645\n",
            "Epoch 2/100\n",
            "1688/1688 [==============================] - 7s 4ms/step - loss: 0.3621 - accuracy: 0.8669 - val_loss: 0.3915 - val_accuracy: 0.8578\n",
            "Epoch 3/100\n",
            "1688/1688 [==============================] - 6s 4ms/step - loss: 0.3248 - accuracy: 0.8805 - val_loss: 0.3325 - val_accuracy: 0.8777\n",
            "Epoch 4/100\n",
            "1688/1688 [==============================] - 6s 4ms/step - loss: 0.2991 - accuracy: 0.8894 - val_loss: 0.3371 - val_accuracy: 0.8738\n",
            "Epoch 5/100\n",
            "1688/1688 [==============================] - 6s 4ms/step - loss: 0.2830 - accuracy: 0.8949 - val_loss: 0.3467 - val_accuracy: 0.8807\n",
            "Epoch 6/100\n",
            "1688/1688 [==============================] - 6s 4ms/step - loss: 0.2670 - accuracy: 0.9005 - val_loss: 0.3139 - val_accuracy: 0.8850\n",
            "Epoch 7/100\n",
            "1688/1688 [==============================] - 6s 4ms/step - loss: 0.2540 - accuracy: 0.9053 - val_loss: 0.3153 - val_accuracy: 0.8860\n",
            "Epoch 8/100\n",
            "1688/1688 [==============================] - 7s 4ms/step - loss: 0.2435 - accuracy: 0.9093 - val_loss: 0.3519 - val_accuracy: 0.8768\n",
            "Epoch 9/100\n",
            "1688/1688 [==============================] - 7s 4ms/step - loss: 0.2324 - accuracy: 0.9121 - val_loss: 0.3196 - val_accuracy: 0.8868\n",
            "Epoch 10/100\n",
            "1688/1688 [==============================] - 7s 4ms/step - loss: 0.2234 - accuracy: 0.9165 - val_loss: 0.3327 - val_accuracy: 0.8853\n",
            "Epoch 11/100\n",
            "1688/1688 [==============================] - 6s 4ms/step - loss: 0.2129 - accuracy: 0.9204 - val_loss: 0.3298 - val_accuracy: 0.8860\n",
            "Epoch 12/100\n",
            "1688/1688 [==============================] - 6s 4ms/step - loss: 0.2070 - accuracy: 0.9227 - val_loss: 0.3333 - val_accuracy: 0.8837\n",
            "Epoch 13/100\n",
            "1688/1688 [==============================] - 6s 4ms/step - loss: 0.1958 - accuracy: 0.9265 - val_loss: 0.3498 - val_accuracy: 0.8897\n",
            "Epoch 14/100\n",
            "1688/1688 [==============================] - 6s 4ms/step - loss: 0.1910 - accuracy: 0.9286 - val_loss: 0.3308 - val_accuracy: 0.8922\n",
            "Epoch 15/100\n",
            "1688/1688 [==============================] - 6s 4ms/step - loss: 0.1858 - accuracy: 0.9297 - val_loss: 0.3382 - val_accuracy: 0.8913\n",
            "Epoch 16/100\n",
            "1688/1688 [==============================] - 6s 4ms/step - loss: 0.1784 - accuracy: 0.9324 - val_loss: 0.3518 - val_accuracy: 0.8905\n",
            "Epoch 17/100\n",
            "1688/1688 [==============================] - 6s 4ms/step - loss: 0.1727 - accuracy: 0.9339 - val_loss: 0.3489 - val_accuracy: 0.8927\n",
            "Epoch 18/100\n",
            "1688/1688 [==============================] - 6s 4ms/step - loss: 0.1676 - accuracy: 0.9359 - val_loss: 0.3517 - val_accuracy: 0.8947\n",
            "Epoch 19/100\n",
            "1688/1688 [==============================] - 6s 4ms/step - loss: 0.1653 - accuracy: 0.9379 - val_loss: 0.3415 - val_accuracy: 0.8925\n",
            "Epoch 20/100\n",
            "1688/1688 [==============================] - 6s 4ms/step - loss: 0.1587 - accuracy: 0.9406 - val_loss: 0.3710 - val_accuracy: 0.8923\n",
            "Epoch 21/100\n",
            "1688/1688 [==============================] - 6s 4ms/step - loss: 0.1521 - accuracy: 0.9441 - val_loss: 0.3786 - val_accuracy: 0.8848\n",
            "Epoch 22/100\n",
            "1688/1688 [==============================] - 6s 4ms/step - loss: 0.1493 - accuracy: 0.9428 - val_loss: 0.3739 - val_accuracy: 0.8907\n",
            "Epoch 23/100\n",
            "1688/1688 [==============================] - 7s 4ms/step - loss: 0.1440 - accuracy: 0.9456 - val_loss: 0.3661 - val_accuracy: 0.8917\n",
            "Epoch 24/100\n",
            "1688/1688 [==============================] - 6s 4ms/step - loss: 0.1432 - accuracy: 0.9451 - val_loss: 0.3598 - val_accuracy: 0.8957\n",
            "Epoch 25/100\n",
            "1688/1688 [==============================] - 6s 4ms/step - loss: 0.1338 - accuracy: 0.9493 - val_loss: 0.4075 - val_accuracy: 0.8900\n",
            "Epoch 26/100\n",
            "1688/1688 [==============================] - 6s 4ms/step - loss: 0.1326 - accuracy: 0.9496 - val_loss: 0.4076 - val_accuracy: 0.8898\n",
            "Epoch 27/100\n",
            "1688/1688 [==============================] - 6s 4ms/step - loss: 0.1295 - accuracy: 0.9525 - val_loss: 0.4056 - val_accuracy: 0.8953\n",
            "Epoch 28/100\n",
            "1688/1688 [==============================] - 7s 4ms/step - loss: 0.1276 - accuracy: 0.9518 - val_loss: 0.3963 - val_accuracy: 0.8945\n",
            "Epoch 29/100\n",
            "1688/1688 [==============================] - 6s 4ms/step - loss: 0.1243 - accuracy: 0.9540 - val_loss: 0.4034 - val_accuracy: 0.8895\n",
            "Epoch 30/100\n",
            "1688/1688 [==============================] - 6s 4ms/step - loss: 0.1199 - accuracy: 0.9549 - val_loss: 0.4176 - val_accuracy: 0.8933\n",
            "Epoch 31/100\n",
            "1688/1688 [==============================] - 6s 4ms/step - loss: 0.1143 - accuracy: 0.9569 - val_loss: 0.4100 - val_accuracy: 0.8938\n",
            "Epoch 32/100\n",
            "1688/1688 [==============================] - 6s 4ms/step - loss: 0.1124 - accuracy: 0.9573 - val_loss: 0.4255 - val_accuracy: 0.8977\n",
            "Epoch 33/100\n",
            "1688/1688 [==============================] - 6s 4ms/step - loss: 0.1107 - accuracy: 0.9584 - val_loss: 0.4256 - val_accuracy: 0.8953\n",
            "Epoch 34/100\n",
            "1688/1688 [==============================] - 6s 4ms/step - loss: 0.1108 - accuracy: 0.9582 - val_loss: 0.4421 - val_accuracy: 0.8875\n",
            "Epoch 35/100\n",
            "1688/1688 [==============================] - 7s 4ms/step - loss: 0.1076 - accuracy: 0.9593 - val_loss: 0.4430 - val_accuracy: 0.8925\n",
            "Epoch 36/100\n",
            "1688/1688 [==============================] - 6s 4ms/step - loss: 0.1039 - accuracy: 0.9611 - val_loss: 0.4699 - val_accuracy: 0.8902\n",
            "Epoch 37/100\n",
            "1688/1688 [==============================] - 7s 4ms/step - loss: 0.1009 - accuracy: 0.9627 - val_loss: 0.4630 - val_accuracy: 0.8928\n",
            "Epoch 38/100\n",
            "1688/1688 [==============================] - 6s 4ms/step - loss: 0.1011 - accuracy: 0.9624 - val_loss: 0.4597 - val_accuracy: 0.8958\n",
            "Epoch 39/100\n",
            "1688/1688 [==============================] - 7s 4ms/step - loss: 0.0987 - accuracy: 0.9637 - val_loss: 0.5018 - val_accuracy: 0.8858\n",
            "Epoch 40/100\n",
            "1688/1688 [==============================] - 7s 4ms/step - loss: 0.0915 - accuracy: 0.9656 - val_loss: 0.4717 - val_accuracy: 0.8928\n",
            "Epoch 41/100\n",
            "1688/1688 [==============================] - 6s 4ms/step - loss: 0.0918 - accuracy: 0.9661 - val_loss: 0.4869 - val_accuracy: 0.8935\n",
            "Epoch 42/100\n",
            "1688/1688 [==============================] - 6s 4ms/step - loss: 0.0918 - accuracy: 0.9652 - val_loss: 0.4938 - val_accuracy: 0.8942\n",
            "Epoch 43/100\n",
            "1688/1688 [==============================] - 6s 4ms/step - loss: 0.0920 - accuracy: 0.9659 - val_loss: 0.4656 - val_accuracy: 0.8973\n",
            "Epoch 44/100\n",
            "1688/1688 [==============================] - 6s 4ms/step - loss: 0.0873 - accuracy: 0.9669 - val_loss: 0.5123 - val_accuracy: 0.8955\n",
            "Epoch 45/100\n",
            "1688/1688 [==============================] - 6s 4ms/step - loss: 0.0888 - accuracy: 0.9679 - val_loss: 0.5058 - val_accuracy: 0.8920\n",
            "Epoch 46/100\n",
            "1688/1688 [==============================] - 6s 4ms/step - loss: 0.0828 - accuracy: 0.9681 - val_loss: 0.5044 - val_accuracy: 0.8975\n",
            "Epoch 47/100\n",
            "1688/1688 [==============================] - 6s 4ms/step - loss: 0.0833 - accuracy: 0.9694 - val_loss: 0.5355 - val_accuracy: 0.8907\n",
            "Epoch 48/100\n",
            "1688/1688 [==============================] - 6s 4ms/step - loss: 0.0814 - accuracy: 0.9698 - val_loss: 0.5340 - val_accuracy: 0.8970\n",
            "Epoch 49/100\n",
            "1688/1688 [==============================] - 6s 4ms/step - loss: 0.0807 - accuracy: 0.9700 - val_loss: 0.5793 - val_accuracy: 0.8963\n",
            "Epoch 50/100\n",
            "1688/1688 [==============================] - 6s 4ms/step - loss: 0.0769 - accuracy: 0.9723 - val_loss: 0.5432 - val_accuracy: 0.8935\n",
            "Epoch 51/100\n",
            "1688/1688 [==============================] - 6s 4ms/step - loss: 0.0774 - accuracy: 0.9714 - val_loss: 0.5757 - val_accuracy: 0.8947\n",
            "Epoch 52/100\n",
            "1688/1688 [==============================] - 9s 5ms/step - loss: 0.0780 - accuracy: 0.9707 - val_loss: 0.6173 - val_accuracy: 0.8898\n",
            "Epoch 53/100\n",
            "1688/1688 [==============================] - 6s 4ms/step - loss: 0.0722 - accuracy: 0.9728 - val_loss: 0.5928 - val_accuracy: 0.8912\n",
            "Epoch 54/100\n",
            "1688/1688 [==============================] - 6s 4ms/step - loss: 0.0709 - accuracy: 0.9739 - val_loss: 0.5890 - val_accuracy: 0.8953\n",
            "Epoch 55/100\n",
            "1688/1688 [==============================] - 6s 4ms/step - loss: 0.0711 - accuracy: 0.9735 - val_loss: 0.6281 - val_accuracy: 0.8900\n",
            "Epoch 56/100\n",
            "1688/1688 [==============================] - 6s 4ms/step - loss: 0.0711 - accuracy: 0.9737 - val_loss: 0.5729 - val_accuracy: 0.8973\n",
            "Epoch 57/100\n",
            "1688/1688 [==============================] - 7s 4ms/step - loss: 0.0718 - accuracy: 0.9735 - val_loss: 0.5718 - val_accuracy: 0.8957\n",
            "Epoch 58/100\n",
            "1688/1688 [==============================] - 7s 4ms/step - loss: 0.0674 - accuracy: 0.9746 - val_loss: 0.6191 - val_accuracy: 0.8893\n",
            "Epoch 59/100\n",
            "1688/1688 [==============================] - 6s 4ms/step - loss: 0.0648 - accuracy: 0.9754 - val_loss: 0.5712 - val_accuracy: 0.8963\n",
            "Epoch 60/100\n",
            "1688/1688 [==============================] - 6s 4ms/step - loss: 0.0642 - accuracy: 0.9757 - val_loss: 0.6181 - val_accuracy: 0.8913\n",
            "Epoch 61/100\n",
            "1688/1688 [==============================] - 6s 4ms/step - loss: 0.0631 - accuracy: 0.9768 - val_loss: 0.5880 - val_accuracy: 0.8950\n",
            "Epoch 62/100\n",
            "1688/1688 [==============================] - 6s 4ms/step - loss: 0.0648 - accuracy: 0.9765 - val_loss: 0.6689 - val_accuracy: 0.8948\n",
            "Epoch 63/100\n",
            "1688/1688 [==============================] - 7s 4ms/step - loss: 0.0653 - accuracy: 0.9756 - val_loss: 0.6265 - val_accuracy: 0.8945\n",
            "Epoch 64/100\n",
            "1688/1688 [==============================] - 6s 4ms/step - loss: 0.0655 - accuracy: 0.9753 - val_loss: 0.6218 - val_accuracy: 0.8955\n",
            "Epoch 65/100\n",
            "1688/1688 [==============================] - 6s 4ms/step - loss: 0.0616 - accuracy: 0.9776 - val_loss: 0.6915 - val_accuracy: 0.8848\n",
            "Epoch 66/100\n",
            "1688/1688 [==============================] - 6s 4ms/step - loss: 0.0597 - accuracy: 0.9785 - val_loss: 0.6336 - val_accuracy: 0.8943\n",
            "Epoch 67/100\n",
            "1688/1688 [==============================] - 6s 4ms/step - loss: 0.0614 - accuracy: 0.9776 - val_loss: 0.6538 - val_accuracy: 0.8953\n",
            "Epoch 68/100\n",
            "1688/1688 [==============================] - 7s 4ms/step - loss: 0.0552 - accuracy: 0.9803 - val_loss: 0.6705 - val_accuracy: 0.8902\n",
            "Epoch 69/100\n",
            "1688/1688 [==============================] - 6s 4ms/step - loss: 0.0566 - accuracy: 0.9794 - val_loss: 0.7103 - val_accuracy: 0.8908\n",
            "Epoch 70/100\n",
            "1688/1688 [==============================] - 6s 4ms/step - loss: 0.0583 - accuracy: 0.9788 - val_loss: 0.6496 - val_accuracy: 0.8933\n",
            "Epoch 71/100\n",
            "1688/1688 [==============================] - 6s 4ms/step - loss: 0.0528 - accuracy: 0.9802 - val_loss: 0.6729 - val_accuracy: 0.8942\n",
            "Epoch 72/100\n",
            "1688/1688 [==============================] - 6s 4ms/step - loss: 0.0557 - accuracy: 0.9798 - val_loss: 0.7040 - val_accuracy: 0.8880\n",
            "Epoch 73/100\n",
            "1688/1688 [==============================] - 6s 4ms/step - loss: 0.0589 - accuracy: 0.9787 - val_loss: 0.6948 - val_accuracy: 0.8907\n",
            "Epoch 74/100\n",
            "1688/1688 [==============================] - 6s 4ms/step - loss: 0.0513 - accuracy: 0.9807 - val_loss: 0.6949 - val_accuracy: 0.8970\n",
            "Epoch 75/100\n",
            "1688/1688 [==============================] - 6s 4ms/step - loss: 0.0555 - accuracy: 0.9798 - val_loss: 0.6871 - val_accuracy: 0.8938\n",
            "Epoch 76/100\n",
            "1688/1688 [==============================] - 6s 4ms/step - loss: 0.0519 - accuracy: 0.9817 - val_loss: 0.7295 - val_accuracy: 0.8927\n",
            "Epoch 77/100\n",
            "1688/1688 [==============================] - 6s 4ms/step - loss: 0.0524 - accuracy: 0.9806 - val_loss: 0.6963 - val_accuracy: 0.8950\n",
            "Epoch 78/100\n",
            "1688/1688 [==============================] - 6s 4ms/step - loss: 0.0494 - accuracy: 0.9821 - val_loss: 0.7202 - val_accuracy: 0.8968\n",
            "Epoch 79/100\n",
            "1688/1688 [==============================] - 7s 4ms/step - loss: 0.0470 - accuracy: 0.9826 - val_loss: 0.7353 - val_accuracy: 0.8932\n",
            "Epoch 80/100\n",
            "1688/1688 [==============================] - 6s 4ms/step - loss: 0.0533 - accuracy: 0.9803 - val_loss: 0.7334 - val_accuracy: 0.8965\n",
            "Epoch 81/100\n",
            "1688/1688 [==============================] - 6s 4ms/step - loss: 0.0482 - accuracy: 0.9830 - val_loss: 0.7526 - val_accuracy: 0.8903\n",
            "Epoch 82/100\n",
            "1688/1688 [==============================] - 6s 4ms/step - loss: 0.0512 - accuracy: 0.9812 - val_loss: 0.7331 - val_accuracy: 0.8927\n",
            "Epoch 83/100\n",
            "1688/1688 [==============================] - 7s 4ms/step - loss: 0.0450 - accuracy: 0.9839 - val_loss: 0.7750 - val_accuracy: 0.8908\n",
            "Epoch 84/100\n",
            "1688/1688 [==============================] - 6s 4ms/step - loss: 0.0498 - accuracy: 0.9824 - val_loss: 0.7944 - val_accuracy: 0.8912\n",
            "Epoch 85/100\n",
            "1688/1688 [==============================] - 6s 4ms/step - loss: 0.0451 - accuracy: 0.9835 - val_loss: 0.8365 - val_accuracy: 0.8890\n",
            "Epoch 86/100\n",
            "1688/1688 [==============================] - 7s 4ms/step - loss: 0.0486 - accuracy: 0.9825 - val_loss: 0.8065 - val_accuracy: 0.8942\n",
            "Epoch 87/100\n",
            "1688/1688 [==============================] - 7s 4ms/step - loss: 0.0460 - accuracy: 0.9834 - val_loss: 0.8047 - val_accuracy: 0.8907\n",
            "Epoch 88/100\n",
            "1688/1688 [==============================] - 6s 4ms/step - loss: 0.0450 - accuracy: 0.9834 - val_loss: 0.7677 - val_accuracy: 0.8972\n",
            "Epoch 89/100\n",
            "1688/1688 [==============================] - 7s 4ms/step - loss: 0.0460 - accuracy: 0.9835 - val_loss: 0.7887 - val_accuracy: 0.8927\n",
            "Epoch 90/100\n",
            "1688/1688 [==============================] - 6s 4ms/step - loss: 0.0429 - accuracy: 0.9850 - val_loss: 0.8114 - val_accuracy: 0.8918\n",
            "Epoch 91/100\n",
            "1688/1688 [==============================] - 7s 4ms/step - loss: 0.0445 - accuracy: 0.9839 - val_loss: 0.8101 - val_accuracy: 0.8933\n",
            "Epoch 92/100\n",
            "1688/1688 [==============================] - 6s 4ms/step - loss: 0.0401 - accuracy: 0.9863 - val_loss: 0.7657 - val_accuracy: 0.8968\n",
            "Epoch 93/100\n",
            "1688/1688 [==============================] - 7s 4ms/step - loss: 0.0434 - accuracy: 0.9843 - val_loss: 0.8255 - val_accuracy: 0.8930\n",
            "Epoch 94/100\n",
            "1688/1688 [==============================] - 6s 4ms/step - loss: 0.0438 - accuracy: 0.9842 - val_loss: 0.8134 - val_accuracy: 0.8952\n",
            "Epoch 95/100\n",
            "1688/1688 [==============================] - 6s 4ms/step - loss: 0.0396 - accuracy: 0.9857 - val_loss: 0.8620 - val_accuracy: 0.8905\n",
            "Epoch 96/100\n",
            "1688/1688 [==============================] - 6s 4ms/step - loss: 0.0404 - accuracy: 0.9855 - val_loss: 0.8102 - val_accuracy: 0.8942\n",
            "Epoch 97/100\n",
            "1688/1688 [==============================] - 6s 4ms/step - loss: 0.0400 - accuracy: 0.9853 - val_loss: 0.9144 - val_accuracy: 0.8872\n",
            "Epoch 98/100\n",
            "1688/1688 [==============================] - 6s 4ms/step - loss: 0.0438 - accuracy: 0.9847 - val_loss: 0.8495 - val_accuracy: 0.8940\n",
            "Epoch 99/100\n",
            "1688/1688 [==============================] - 6s 4ms/step - loss: 0.0437 - accuracy: 0.9844 - val_loss: 0.8313 - val_accuracy: 0.8963\n",
            "Epoch 100/100\n",
            "1688/1688 [==============================] - 7s 4ms/step - loss: 0.0357 - accuracy: 0.9872 - val_loss: 0.8353 - val_accuracy: 0.8950\n"
          ],
          "name": "stdout"
        }
      ]
    },
    {
      "cell_type": "code",
      "metadata": {
        "id": "cnxvI--KN3uL",
        "colab_type": "code",
        "colab": {
          "base_uri": "https://localhost:8080/",
          "height": 352
        },
        "outputId": "98dd2ffc-4aae-4f9d-a3af-58310d3ff9b1"
      },
      "source": [
        "sns.set_style('whitegrid')\n",
        "plt.figure(figsize=(10,5))\n",
        "plt.plot(history.history['loss'],label='training_loss')\n",
        "plt.plot(history.history['accuracy'],label='training_accuracy')\n",
        "plt.plot(history.history['val_loss'],label='val_training_loss',linestyle='dashed')\n",
        "plt.plot(history.history['val_accuracy'],label='val_training_accuracy',linestyle='dashed')\n",
        "plt.legend()\n",
        "plt.xlabel('number of epochs')"
      ],
      "execution_count": 91,
      "outputs": [
        {
          "output_type": "execute_result",
          "data": {
            "text/plain": [
              "Text(0.5, 0, 'number of epochs')"
            ]
          },
          "metadata": {
            "tags": []
          },
          "execution_count": 91
        },
        {
          "output_type": "display_data",
          "data": {
            "image/png": "[encoded data removed]",
            "text/plain": [
              "<Figure size 720x360 with 1 Axes>"
            ]
          },
          "metadata": {
            "tags": []
          }
        }
      ]
    },
    {
      "cell_type": "code",
      "metadata": {
        "id": "k0bLEwtLOZvo",
        "colab_type": "code",
        "colab": {
          "base_uri": "https://localhost:8080/",
          "height": 52
        },
        "outputId": "3afa6e77-922e-4986-fcaf-fe903323da1f"
      },
      "source": [
        "model.evaluate(test_images, test_labels)"
      ],
      "execution_count": 92,
      "outputs": [
        {
          "output_type": "stream",
          "text": [
            "313/313 [==============================] - 1s 2ms/step - loss: 0.8988 - accuracy: 0.8941\n"
          ],
          "name": "stdout"
        },
        {
          "output_type": "execute_result",
          "data": {
            "text/plain": [
              "[0.8987847566604614, 0.89410001039505]"
            ]
          },
          "metadata": {
            "tags": []
          },
          "execution_count": 92
        }
      ]
    },
    {
      "cell_type": "code",
      "metadata": {
        "id": "Ed84vsQKPd4Q",
        "colab_type": "code",
        "colab": {
          "base_uri": "https://localhost:8080/",
          "height": 34
        },
        "outputId": "b6655965-9e01-47fc-a454-4f1cc5a03786"
      },
      "source": [
        "classifications = model.predict(test_images)\n",
        "\n",
        "print(classifications[0])"
      ],
      "execution_count": 93,
      "outputs": [
        {
          "output_type": "stream",
          "text": [
            "[3.8398281e-32 4.3196600e-38 1.8543784e-31 8.0907222e-29 0.0000000e+00 1.9581368e-11 1.0590042e-27 2.9882760e-14 5.4895200e-34 1.0000000e+00]\n"
          ],
          "name": "stdout"
        }
      ]
    },
    {
      "cell_type": "code",
      "metadata": {
        "id": "7J19_361TFb5",
        "colab_type": "code",
        "colab": {
          "base_uri": "https://localhost:8080/",
          "height": 34
        },
        "outputId": "364c20b1-f57c-443b-f58c-050847eb9f3c"
      },
      "source": [
        "print(test_labels[0])\n"
      ],
      "execution_count": 94,
      "outputs": [
        {
          "output_type": "stream",
          "text": [
            "9\n"
          ],
          "name": "stdout"
        }
      ]
    },
    {
      "cell_type": "code",
      "metadata": {
        "id": "jnZLVmPZduTw",
        "colab_type": "code",
        "colab": {
          "base_uri": "https://localhost:8080/",
          "height": 282
        },
        "outputId": "fc068d3b-85a7-4ced-ddd7-47f6f5b5a66d"
      },
      "source": [
        "plt.imshow(test_images[0])"
      ],
      "execution_count": 96,
      "outputs": [
        {
          "output_type": "execute_result",
          "data": {
            "text/plain": [
              "<matplotlib.image.AxesImage at 0x7fbef14bc898>"
            ]
          },
          "metadata": {
            "tags": []
          },
          "execution_count": 96
        },
        {
          "output_type": "display_data",
          "data": {
            "image/png": "[encoded data removed]",
            "text/plain": [
              "<Figure size 432x288 with 1 Axes>"
            ]
          },
          "metadata": {
            "tags": []
          }
        }
      ]
    },
    {
      "cell_type": "code",
      "metadata": {
        "id": "nKSEw2BieXKy",
        "colab_type": "code",
        "colab": {
          "base_uri": "https://localhost:8080/",
          "height": 118
        },
        "outputId": "58122b9d-0282-4b9c-bca6-7c1a06f67d14"
      },
      "source": [
        "import pydot\n",
        "plt.figure(figsize=(5,5))\n",
        "from IPython.display import SVG\n",
        "from keras.utils.vis_utils import model_to_dot\n",
        "from keras.utils import plot_model\n",
        "plot_model(model, to_file='model.png')\n",
        "SVG(model_to_dot(model).create(prog='dot', format='svg'))"
      ],
      "execution_count": 99,
      "outputs": [
        {
          "output_type": "execute_result",
          "data": {
            "text/plain": [
              "<IPython.core.display.SVG object>"
            ],
            "image/svg+xml": "<svg height=\"60pt\" viewBox=\"0.00 0.00 385.50 45.00\" width=\"514pt\" xmlns=\"http://www.w3.org/2000/svg\" xmlns:xlink=\"http://www.w3.org/1999/xlink\">\n<g class=\"graph\" id=\"graph0\" transform=\"scale(1.3333 1.3333) rotate(0) translate(4 41)\">\n<title>G</title>\n<polygon fill=\"#ffffff\" points=\"-4,4 -4,-41 381.5,-41 381.5,4 -4,4\" stroke=\"transparent\"/>\n<!-- 140457907426920 -->\n<g class=\"node\" id=\"node1\">\n<title>140457907426920</title>\n<polygon fill=\"none\" points=\"0,-.5 0,-36.5 113,-36.5 113,-.5 0,-.5\" stroke=\"#000000\"/>\n<text fill=\"#000000\" font-family=\"Times,serif\" font-size=\"14.00\" text-anchor=\"middle\" x=\"56.5\" y=\"-14.8\">flatten_9: Flatten</text>\n</g>\n<!-- 140457907426472 -->\n<g class=\"node\" id=\"node2\">\n<title>140457907426472</title>\n<polygon fill=\"none\" points=\"131.5,-.5 131.5,-36.5 245.5,-36.5 245.5,-.5 131.5,-.5\" stroke=\"#000000\"/>\n<text fill=\"#000000\" font-family=\"Times,serif\" font-size=\"14.00\" text-anchor=\"middle\" x=\"188.5\" y=\"-14.8\">dense_19: Dense</text>\n</g>\n<!-- 140457907637888 -->\n<g class=\"node\" id=\"node3\">\n<title>140457907637888</title>\n<polygon fill=\"none\" points=\"263.5,-.5 263.5,-36.5 377.5,-36.5 377.5,-.5 263.5,-.5\" stroke=\"#000000\"/>\n<text fill=\"#000000\" font-family=\"Times,serif\" font-size=\"14.00\" text-anchor=\"middle\" x=\"320.5\" y=\"-14.8\">dense_20: Dense</text>\n</g>\n</g>\n</svg>"
          },
          "metadata": {
            "tags": []
          },
          "execution_count": 99
        },
        {
          "output_type": "display_data",
          "data": {
            "text/plain": [
              "<Figure size 360x360 with 0 Axes>"
            ]
          },
          "metadata": {
            "tags": []
          }
        }
      ]
    },
    {
      "cell_type": "code",
      "metadata": {
        "id": "JGV7KR4Ki5gM",
        "colab_type": "code",
        "colab": {
          "base_uri": "https://localhost:8080/",
          "height": 265
        },
        "outputId": "228b0028-c4c1-4c05-a018-0f2be2c37345"
      },
      "source": [
        "model.summary()"
      ],
      "execution_count": 100,
      "outputs": [
        {
          "output_type": "stream",
          "text": [
            "Model: \"sequential_9\"\n",
            "_________________________________________________________________\n",
            "Layer (type)                 Output Shape              Param #   \n",
            "=================================================================\n",
            "flatten_9 (Flatten)          multiple                  0         \n",
            "_________________________________________________________________\n",
            "dense_19 (Dense)             multiple                  401920    \n",
            "_________________________________________________________________\n",
            "dense_20 (Dense)             multiple                  5130      \n",
            "=================================================================\n",
            "Total params: 407,050\n",
            "Trainable params: 407,050\n",
            "Non-trainable params: 0\n",
            "_________________________________________________________________\n"
          ],
          "name": "stdout"
        }
      ]
    },
    {
      "cell_type": "code",
      "metadata": {
        "id": "gFbI0iIyjcci",
        "colab_type": "code",
        "colab": {}
      },
      "source": [
        ""
      ],
      "execution_count": 0,
      "outputs": []
    }
  ]
}